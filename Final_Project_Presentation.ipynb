{
 "cells": [
  {
   "cell_type": "markdown",
   "id": "a4179b78",
   "metadata": {
    "slideshow": {
     "slide_type": "slide"
    }
   },
   "source": [
    "# PPOL 565 Final Project: Census Voting Data\n",
    "### Colette Yeager"
   ]
  },
  {
   "cell_type": "markdown",
   "id": "0a08ebce",
   "metadata": {
    "slideshow": {
     "slide_type": "slide"
    }
   },
   "source": [
    "### Background\n",
    "- Past studies of voting data\n",
    "- Use in campaigns, determining how to get more people to vote"
   ]
  },
  {
   "cell_type": "markdown",
   "id": "caebe354",
   "metadata": {
    "slideshow": {
     "slide_type": "slide"
    }
   },
   "source": [
    "### The Data\n",
    "\n",
    "#### Current Population Survey: Voting Supplement\n",
    "- \"Provides demographic information on persons who did and did not register to vote\"\n",
    "- Years 1994 - 2020\n",
    "- Model: Look at Voted or Registered to Vote as dependent variable\n",
    "- Metropolitan, Geographic region, Race, Gender, Age, Marital status, Number of household members, Military status, Education completed, and Family income as independent variable features"
   ]
  },
  {
   "cell_type": "markdown",
   "id": "e01cb1ac",
   "metadata": {
    "slideshow": {
     "slide_type": "slide"
    }
   },
   "source": [
    "#### Issues that arose \n",
    "- Variable names from some years differed from others"
   ]
  },
  {
   "cell_type": "code",
   "execution_count": 32,
   "id": "8c95870f",
   "metadata": {
    "slideshow": {
     "slide_type": "skip"
    }
   },
   "outputs": [],
   "source": [
    "import pandas as pd\n",
    "import numpy as np\n",
    "import requests\n",
    "\n",
    "year = '1994'\n",
    "years = ['1994', '1996', '1998', '2000', '2002', '2004', '2006', '2008', '2010', '2012', '2014', '2016', '2018', '2020']\n",
    "statedict = {'AL': '1', 'AK': '2', 'AZ': '4', 'AR': '5', 'CA': '6', 'CO': '8', 'CT': '9', 'DE': '10', 'DC': '11', 'FL': '12',\n",
    "             'GA': '13', 'HI': '15', 'ID': '16', 'IL': '17', 'IN': '18', 'IA': '19', 'KS': '20', 'KY': '21', 'LA': '22', \n",
    "             'ME':'23', 'MD': '24', 'MA': '25', 'MI': '26', 'MN': '27', 'MS': '28', 'MO': '29', 'MT': '30', 'NE': '31', 'NV': \n",
    "             '32', 'NH': '33', 'NJ': '34', 'NM': '35', 'NY': '36', 'NC': '37', 'ND': '38', 'OH': '39', 'OK': '40', 'OR': '41', \n",
    "             'PA': '42', 'RI': '44', 'SC': '45', 'SD': '46', 'TN': '47', 'TX': '48', 'UT': '49', 'VT': '50', 'VA': '51', 'WA': \n",
    "             '53', 'WV': '54', 'WI': '55', 'WY': '56'}\n",
    "rvsestatedict = {v: k for k, v in statedict.items()}\n",
    "STATE = '1'\n",
    "url = (f\"http://api.census.gov/data/{year}/cps/voting/nov\")"
   ]
  },
  {
   "cell_type": "code",
   "execution_count": 33,
   "id": "eef2f5ea",
   "metadata": {
    "slideshow": {
     "slide_type": "fragment"
    }
   },
   "outputs": [],
   "source": [
    "if (year == '1994'):\n",
    "    param_list = [\"PES3,PES4,GEMETSTA,GEREG,PERACE,PRHSPNON,\"+\n",
    "                  \"PESEX,PRTAGE,PEMARITL,HRNUMHOU,PEAFNOW,\"+\n",
    "                  \"PEEDUCA,HUFAMINC,PREXPLF,PRFTLF\"]\n",
    "elif(year == '1996' or year == '1998' or year == '2000' or year == '2002'):\n",
    "    param_list = [\"PES1,PES2,GEMETSTA,GEREG,PERACE,PRHSPNON,\"+\n",
    "                  \"PESEX,PRTAGE,PEMARITL,HRNUMHOU,PEAFNOW,\"+\n",
    "                  \"PEEDUCA,HUFAMINC,PREXPLF,PRFTLF\"]\n",
    "elif(year == '2004' or year == '2006' or year == '2008'):\n",
    "    param_list = [\"PES1,PES2,GTMETSTA,GEREG,PTDTRACE,PEHSPNON,\"+\n",
    "                  \"PESEX,PRTAGE,PEMARITL,HRNUMHOU,PEAFNOW,\"+\n",
    "                  \"PEEDUCA,HUFAMINC,PREXPLF,PRFTLF\"]\n",
    "else:\n",
    "    param_list = [\"PES1,PES2,GTMETSTA,GEREG,PTDTRACE,PEHSPNON,\"+\n",
    "                  \"PESEX,PRTAGE,PEMARITL,HRNUMHOU,PEAFNOW,\"+\n",
    "                  \"PEEDUCA,HEFAMINC,PREXPLF,PRFTLF\"]"
   ]
  },
  {
   "cell_type": "code",
   "execution_count": 34,
   "id": "c6794bb7",
   "metadata": {
    "slideshow": {
     "slide_type": "skip"
    }
   },
   "outputs": [],
   "source": [
    "r = requests.get(url,\n",
    "                params = {\"get\": param_list,\n",
    "                         \"for\": f\"state:{STATE}\"})\n",
    "\n",
    "# Create dataframe with data\n",
    "census_df = pd.DataFrame(data = r.json())\n",
    "census_df.rename(columns = census_df.iloc[0], inplace = True)\n",
    "census_df.drop([0], axis = 0, inplace = True)\n",
    "# Change column names\n",
    "census_df.columns = [\"Voted\", \"Registered_to_Vote\", \"Metropolitan\",\n",
    "                     \"Geographic_Region\", \"Race\", \"Hispanic\",\n",
    "                     \"Female\", \"Age\", \"Marital_Status\", \n",
    "                     \"Household_Members\", \"In_Armed_Forces\", \n",
    "                     \"Education_Completed\", \"Family_Income_category\", \"Employment_Status\", \n",
    "                     \"Full_Time\", \"State\"]\n",
    "# Replace number with state abbreviation\n",
    "census_df.replace({'State': rvsestatedict}, inplace = True)\n",
    "# Change column types\n",
    "census_df = census_df.astype({\"Voted\": int, \"Registered_to_Vote\": int, \"Metropolitan\": int, \n",
    "                              \"Geographic_Region\": int, \"Race\": int, \"Hispanic\": int, \"Female\": int,\n",
    "                              \"Age\" : int, \"Marital_Status\": int, \"Household_Members\": int, \n",
    "                              \"In_Armed_Forces\": int, \"Education_Completed\": int,\n",
    "                              \"Family_Income_category\": int, \"Employment_Status\": int, \"Full_Time\": int, \"State\": str})\n",
    "col2 = census_df.pop('State')\n",
    "census_df.insert(0, 'State', col2)"
   ]
  },
  {
   "cell_type": "markdown",
   "id": "eba0fb7d",
   "metadata": {
    "slideshow": {
     "slide_type": "subslide"
    }
   },
   "source": [
    "- Values for Registered to Vote Variable"
   ]
  },
  {
   "cell_type": "code",
   "execution_count": 35,
   "id": "d5d70b12",
   "metadata": {
    "slideshow": {
     "slide_type": "fragment"
    }
   },
   "outputs": [],
   "source": [
    "census_df.loc[census_df.Voted == 1, 'Registered_to_Vote'] = 1"
   ]
  },
  {
   "cell_type": "markdown",
   "id": "31810760",
   "metadata": {
    "slideshow": {
     "slide_type": "subslide"
    }
   },
   "source": [
    "- Family Income"
   ]
  },
  {
   "cell_type": "code",
   "execution_count": 36,
   "id": "b030ee4d",
   "metadata": {
    "slideshow": {
     "slide_type": "fragment"
    }
   },
   "outputs": [
    {
     "data": {
      "text/plain": [
       "array([ 2,  4,  6,  8, 14, 10,  7, -3, 11, 13, 12,  9,  1,  3, -2,  5])"
      ]
     },
     "execution_count": 36,
     "metadata": {},
     "output_type": "execute_result"
    }
   ],
   "source": [
    "census_df.Family_Income_category.unique()"
   ]
  },
  {
   "cell_type": "markdown",
   "id": "d659aaed",
   "metadata": {
    "slideshow": {
     "slide_type": "fragment"
    }
   },
   "source": [
    "From the Census API Variable list:\n",
    "\n",
    "values: {\n",
    "\n",
    "      \"-1\": \"Blank\", \n",
    "      \"7\": \"20,000 To 24,999\",\n",
    "      \"-2\": \"Don't Know\",\n",
    "      \"10\": \"35,000 To 39,999\",\n",
    "      \"5\": \"12,500 To 14,999\",\n",
    "      \"1\": \"Less Than $5,000\",\n",
    "      \"12\": \"50,000 To 59,999\",\n",
    "      \"3\": \"7,500 To 9,999\",\n",
    "      \"4\": \"10,000 To 12,499\",\n",
    "      \"11\": \"40,000 To 49,999\",\n",
    "      \"13\": \"60,000 To 74,999\",\n",
    "      \"14\": \"75,000 Or More\",\n",
    "      \"8\": \"25,000 To 29,999\",\n",
    "      \"2\": \"5,000 To 7,499\",\n",
    "      \"-3\": \"Refused\",\n",
    "      \"9\": \"30,000 To 34,999\",\n",
    "      \"6\": \"15,000 To 19,999\"\n",
    "}"
   ]
  },
  {
   "cell_type": "code",
   "execution_count": 37,
   "id": "47492bdd",
   "metadata": {
    "slideshow": {
     "slide_type": "subslide"
    }
   },
   "outputs": [],
   "source": [
    "census_df['Family_Income_actual'] = census_df.Family_Income_category.replace({1: 5000, 2: 6250, \n",
    "                                                                              3: 8250, 4: 11250, \n",
    "                                                                              5: 13750, 6: 17500, \n",
    "                                                                              7: 22500, 8: 27500, \n",
    "                                                                              9: 32500, 10: 37500, \n",
    "                                                                              11: 45000, 12: 55000, \n",
    "                                                                              13: 67500, 14: 87500, \n",
    "                                                                              15: 125000, 16: 150000})"
   ]
  },
  {
   "cell_type": "markdown",
   "id": "15fafc14",
   "metadata": {
    "slideshow": {
     "slide_type": "slide"
    }
   },
   "source": [
    "#### Other Preprocessing\n",
    "- Create some dummy variables\n",
    "- Change values of variables from 1 and 2 to 0 and 1\n",
    "- Drop NA values\n",
    "- Drop rows for people under 18"
   ]
  }
 ],
 "metadata": {
  "celltoolbar": "Slideshow",
  "kernelspec": {
   "display_name": "Python 3",
   "language": "python",
   "name": "python3"
  },
  "language_info": {
   "codemirror_mode": {
    "name": "ipython",
    "version": 3
   },
   "file_extension": ".py",
   "mimetype": "text/x-python",
   "name": "python",
   "nbconvert_exporter": "python",
   "pygments_lexer": "ipython3",
   "version": "3.8.8"
  }
 },
 "nbformat": 4,
 "nbformat_minor": 5
}
